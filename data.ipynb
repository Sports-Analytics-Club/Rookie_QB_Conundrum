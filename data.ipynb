{
 "cells": [
  {
   "cell_type": "code",
   "execution_count": 7,
   "metadata": {},
   "outputs": [],
   "source": [
    "import string\n",
    "import requests\n",
    "from bs4 import BeautifulSoup\n",
    "\n",
    "alphabet = list(string.ascii_uppercase)\n",
    "\n",
    "url_start = \"https://www.pro-football-reference.com/players/{}/\"\n",
    "\n",
    "\n",
    "for letter in alphabet:\n",
    "    url = url_start.format(letter)\n",
    "    response = requests.get(url)\n",
    "\n",
    "    soup = BeautifulSoup(response.text, 'html.parser')\n",
    "    player_elements = soup.find_all('div', class_='player_info')\n",
    "\n",
    "    for player in player_elements:\n",
    "        player_name = player.find('a').text\n",
    "        player_info = player.find('p').text\n",
    "        if \"QB\" in player_info and \"19\" in player_info: #Assuming player is in 19th century\n",
    "            year_played = int(player_info.split('-')[0])\n",
    "            if year_played >= 1966:\n",
    "                with open(\"QB_Data/{}.html\".format(letter), \"w+\") as file:\n",
    "                    file.write(player_info)\n",
    "\n"
   ]
  }
 ],
 "metadata": {
  "kernelspec": {
   "display_name": "Python 3",
   "language": "python",
   "name": "python3"
  },
  "language_info": {
   "codemirror_mode": {
    "name": "ipython",
    "version": 3
   },
   "file_extension": ".py",
   "mimetype": "text/x-python",
   "name": "python",
   "nbconvert_exporter": "python",
   "pygments_lexer": "ipython3",
   "version": "3.11.5"
  },
  "orig_nbformat": 4
 },
 "nbformat": 4,
 "nbformat_minor": 2
}
